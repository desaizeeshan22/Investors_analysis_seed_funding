{
 "cells": [
  {
   "cell_type": "code",
   "execution_count": 50,
   "metadata": {},
   "outputs": [],
   "source": [
    "import pandas as pd\n",
    "import numpy as np"
   ]
  },
  {
   "cell_type": "code",
   "execution_count": 3,
   "metadata": {},
   "outputs": [],
   "source": [
    "investors=pd.read_csv(\"C:\\\\Users\\\\desai\\\\Downloads\\\\9,000  Investors - 9,000+ Investors.csv\")"
   ]
  },
  {
   "cell_type": "code",
   "execution_count": 4,
   "metadata": {},
   "outputs": [
    {
     "data": {
      "text/html": [
       "<div>\n",
       "<style scoped>\n",
       "    .dataframe tbody tr th:only-of-type {\n",
       "        vertical-align: middle;\n",
       "    }\n",
       "\n",
       "    .dataframe tbody tr th {\n",
       "        vertical-align: top;\n",
       "    }\n",
       "\n",
       "    .dataframe thead th {\n",
       "        text-align: right;\n",
       "    }\n",
       "</style>\n",
       "<table border=\"1\" class=\"dataframe\">\n",
       "  <thead>\n",
       "    <tr style=\"text-align: right;\">\n",
       "      <th></th>\n",
       "      <th>Firm</th>\n",
       "      <th>Website</th>\n",
       "      <th>Description</th>\n",
       "      <th>Contact</th>\n",
       "      <th>Phone Number</th>\n",
       "      <th>Title</th>\n",
       "      <th>Email</th>\n",
       "      <th>Total Investments</th>\n",
       "      <th>Active Investments</th>\n",
       "      <th>Dry Powder</th>\n",
       "      <th>...</th>\n",
       "      <th>Preferred Sectors</th>\n",
       "      <th>Preferred Investment Size</th>\n",
       "      <th>Preferred Transaction Sizes</th>\n",
       "      <th>Preferences</th>\n",
       "      <th>Date of Last Fund Closed</th>\n",
       "      <th>AUM</th>\n",
       "      <th>Type</th>\n",
       "      <th>HQ</th>\n",
       "      <th>CSDP Target</th>\n",
       "      <th>LinkedIn URL</th>\n",
       "    </tr>\n",
       "  </thead>\n",
       "  <tbody>\n",
       "    <tr>\n",
       "      <th>0</th>\n",
       "      <td>Techstars</td>\n",
       "      <td>www.techstars.com</td>\n",
       "      <td>Techstars is a mentorship-driven seed stage in...</td>\n",
       "      <td>David Cohen</td>\n",
       "      <td>+1 (408) 524-1400</td>\n",
       "      <td>Co-Founder, Co-Chief Executive Officer &amp; Board...</td>\n",
       "      <td>david.cohen@techstars.com</td>\n",
       "      <td>502.0</td>\n",
       "      <td>132.0</td>\n",
       "      <td>120.07</td>\n",
       "      <td>...</td>\n",
       "      <td>Beverages, Computer Hardware, Education and Tr...</td>\n",
       "      <td>Accelerator/Incubator, Convertible Debt, Early...</td>\n",
       "      <td>0.10 - 0.20</td>\n",
       "      <td>NaN</td>\n",
       "      <td>11/17/2016</td>\n",
       "      <td>300</td>\n",
       "      <td>Accelerator/Incubator</td>\n",
       "      <td>Boulder, CO</td>\n",
       "      <td>Target 2</td>\n",
       "      <td>NaN</td>\n",
       "    </tr>\n",
       "    <tr>\n",
       "      <th>1</th>\n",
       "      <td>Y Combinator</td>\n",
       "      <td>www.ycombinator.com</td>\n",
       "      <td>Y Combinator is an accelerator that provides s...</td>\n",
       "      <td>Trevor Blackwell</td>\n",
       "      <td>NaN</td>\n",
       "      <td>Co-Founder &amp; Partner</td>\n",
       "      <td>trevor@ycombinator.com</td>\n",
       "      <td>535.0</td>\n",
       "      <td>250.0</td>\n",
       "      <td>0.96</td>\n",
       "      <td>...</td>\n",
       "      <td>Software</td>\n",
       "      <td>Accelerator/Incubator, Early Stage VC, Later S...</td>\n",
       "      <td>0.12</td>\n",
       "      <td>NaN</td>\n",
       "      <td>10/16/2015</td>\n",
       "      <td>772.8</td>\n",
       "      <td>Accelerator/Incubator</td>\n",
       "      <td>Mountain View, CA</td>\n",
       "      <td>Target 2</td>\n",
       "      <td>NaN</td>\n",
       "    </tr>\n",
       "    <tr>\n",
       "      <th>2</th>\n",
       "      <td>Plug and Play Tech Center</td>\n",
       "      <td>www.plugandplaytechcenter.com</td>\n",
       "      <td>Plug and Play is a global accelerator that spe...</td>\n",
       "      <td>Marc Steiner</td>\n",
       "      <td>+1 (650) 614-4800</td>\n",
       "      <td>General Counsel</td>\n",
       "      <td>marc@plugandplaytechcenter.com</td>\n",
       "      <td>411.0</td>\n",
       "      <td>73.0</td>\n",
       "      <td>0</td>\n",
       "      <td>...</td>\n",
       "      <td>Software</td>\n",
       "      <td>NaN</td>\n",
       "      <td>0.03 - 0.50</td>\n",
       "      <td>NaN</td>\n",
       "      <td>NaN</td>\n",
       "      <td>NaN</td>\n",
       "      <td>Accelerator/Incubator</td>\n",
       "      <td>Sunnyvale, CA</td>\n",
       "      <td>Target 2</td>\n",
       "      <td>NaN</td>\n",
       "    </tr>\n",
       "    <tr>\n",
       "      <th>3</th>\n",
       "      <td>Microsoft Accelerator</td>\n",
       "      <td>www.microsoftaccelerator.com</td>\n",
       "      <td>Microsoft Accelerator is an accelerator that p...</td>\n",
       "      <td>Amir Pinchas</td>\n",
       "      <td>NaN</td>\n",
       "      <td>Principal, Head of Operations and Portfolio &amp; ...</td>\n",
       "      <td>amir.pinchas@microsoftventures.com</td>\n",
       "      <td>391.0</td>\n",
       "      <td>58.0</td>\n",
       "      <td>NaN</td>\n",
       "      <td>...</td>\n",
       "      <td>Software</td>\n",
       "      <td>Accelerator/Incubator, Early Stage VC, Later S...</td>\n",
       "      <td>0.05 - 0.30</td>\n",
       "      <td>NaN</td>\n",
       "      <td>NaN</td>\n",
       "      <td>NaN</td>\n",
       "      <td>Accelerator/Incubator</td>\n",
       "      <td>Seattle, WA</td>\n",
       "      <td>NaN</td>\n",
       "      <td>NaN</td>\n",
       "    </tr>\n",
       "    <tr>\n",
       "      <th>4</th>\n",
       "      <td>Accel</td>\n",
       "      <td>www.accel.com</td>\n",
       "      <td>Accel is a Palo Alto, California based venture...</td>\n",
       "      <td>Anne Rockhold</td>\n",
       "      <td>+1 (301) 272-2300</td>\n",
       "      <td>Chief Financial Officer</td>\n",
       "      <td>arockhold@accel.com</td>\n",
       "      <td>200.0</td>\n",
       "      <td>186.0</td>\n",
       "      <td>4,806.77</td>\n",
       "      <td>...</td>\n",
       "      <td>Commercial Products, Commercial Services, Comm...</td>\n",
       "      <td>NaN</td>\n",
       "      <td>1.00 - 30.00</td>\n",
       "      <td>NaN</td>\n",
       "      <td>11/30/2016</td>\n",
       "      <td>10,806.40</td>\n",
       "      <td>Venture Capital</td>\n",
       "      <td>Palo Alto, CA</td>\n",
       "      <td>Target 2</td>\n",
       "      <td>NaN</td>\n",
       "    </tr>\n",
       "    <tr>\n",
       "      <th>5</th>\n",
       "      <td>Andreessen Horowitz</td>\n",
       "      <td>www.a16z.com</td>\n",
       "      <td>Andreessen Horowitz is a venture capital firm ...</td>\n",
       "      <td>Marc L. Andreessen</td>\n",
       "      <td>+1 (415) 512-7553</td>\n",
       "      <td>Co-Founder &amp; General Partner</td>\n",
       "      <td>ma@a16z.com</td>\n",
       "      <td>157.0</td>\n",
       "      <td>78.0</td>\n",
       "      <td>1,220.38</td>\n",
       "      <td>...</td>\n",
       "      <td>Healthcare Technology Systems, Software</td>\n",
       "      <td>Early Stage VC, Later Stage VC, Seed Round</td>\n",
       "      <td>0.01 - 100.00</td>\n",
       "      <td>NaN</td>\n",
       "      <td>6/10/2016</td>\n",
       "      <td>6,314.80</td>\n",
       "      <td>Venture Capital</td>\n",
       "      <td>Menlo Park, CA</td>\n",
       "      <td>Target 2</td>\n",
       "      <td>NaN</td>\n",
       "    </tr>\n",
       "    <tr>\n",
       "      <th>6</th>\n",
       "      <td>New Enterprise Associates</td>\n",
       "      <td>www.nea.com</td>\n",
       "      <td>New Enterprise Associates is a venture capital...</td>\n",
       "      <td>Tim Schaller</td>\n",
       "      <td>NaN</td>\n",
       "      <td>Chief Financial Officer</td>\n",
       "      <td>tschaller@nea.com</td>\n",
       "      <td>173.0</td>\n",
       "      <td>193.0</td>\n",
       "      <td>2,004.63</td>\n",
       "      <td>...</td>\n",
       "      <td>Commercial Services, Communications and Networ...</td>\n",
       "      <td>Early Stage VC, Later Stage VC, PE Growth/Expa...</td>\n",
       "      <td>0.05 - 20.00</td>\n",
       "      <td>NaN</td>\n",
       "      <td>4/15/2015</td>\n",
       "      <td>10,850.00</td>\n",
       "      <td>Venture Capital</td>\n",
       "      <td>Chevy Chase, MD</td>\n",
       "      <td>Target 2</td>\n",
       "      <td>NaN</td>\n",
       "    </tr>\n",
       "    <tr>\n",
       "      <th>7</th>\n",
       "      <td>SV Angel</td>\n",
       "      <td>www.svangel.com</td>\n",
       "      <td>SV Angel is a San Francisco, California based ...</td>\n",
       "      <td>Brian Pokorny</td>\n",
       "      <td>+1 (415) 655-4965</td>\n",
       "      <td>General Partner</td>\n",
       "      <td>brian@svangel.com</td>\n",
       "      <td>232.0</td>\n",
       "      <td>196.0</td>\n",
       "      <td>88.07</td>\n",
       "      <td>...</td>\n",
       "      <td>Software</td>\n",
       "      <td>Early Stage VC, Later Stage VC, Merger/Acquisi...</td>\n",
       "      <td>NaN</td>\n",
       "      <td>NaN</td>\n",
       "      <td>11/22/2016</td>\n",
       "      <td>232.8</td>\n",
       "      <td>Venture Capital</td>\n",
       "      <td>San Francisco, CA</td>\n",
       "      <td>Target 2</td>\n",
       "      <td>NaN</td>\n",
       "    </tr>\n",
       "    <tr>\n",
       "      <th>8</th>\n",
       "      <td>GV</td>\n",
       "      <td>www.gv.com</td>\n",
       "      <td>GV is the corporate venture capital arm of Alp...</td>\n",
       "      <td>Jodi Olson</td>\n",
       "      <td>+1 (650) 853-7000</td>\n",
       "      <td>Communications Partner</td>\n",
       "      <td>jodi@gv.com</td>\n",
       "      <td>135.0</td>\n",
       "      <td>86.0</td>\n",
       "      <td>148.49</td>\n",
       "      <td>...</td>\n",
       "      <td>Software</td>\n",
       "      <td>NaN</td>\n",
       "      <td>0.25 - 50.00</td>\n",
       "      <td>NaN</td>\n",
       "      <td>10/22/2015</td>\n",
       "      <td>2,400.00</td>\n",
       "      <td>Corporate Venture Capital</td>\n",
       "      <td>Mountain View, CA</td>\n",
       "      <td>Target 2</td>\n",
       "      <td>NaN</td>\n",
       "    </tr>\n",
       "    <tr>\n",
       "      <th>9</th>\n",
       "      <td>Right Side Capital Management</td>\n",
       "      <td>www.rightsidecapital.com</td>\n",
       "      <td>Right Side Capital Management is a San Francis...</td>\n",
       "      <td>Dave S. Lambert</td>\n",
       "      <td>+1 (650) 854-3927</td>\n",
       "      <td>Founder &amp; Managing Director</td>\n",
       "      <td>dave@rightsidecapital.com</td>\n",
       "      <td>198.0</td>\n",
       "      <td>25.0</td>\n",
       "      <td>0</td>\n",
       "      <td>...</td>\n",
       "      <td>Services (Non-Financial), Software</td>\n",
       "      <td>Early Stage VC, Later Stage VC, Seed Round</td>\n",
       "      <td>0.03 - 0.20</td>\n",
       "      <td>NaN</td>\n",
       "      <td>12/31/2012</td>\n",
       "      <td>NaN</td>\n",
       "      <td>Venture Capital</td>\n",
       "      <td>San Francisco, CA</td>\n",
       "      <td>Target 2</td>\n",
       "      <td>NaN</td>\n",
       "    </tr>\n",
       "  </tbody>\n",
       "</table>\n",
       "<p>10 rows × 22 columns</p>\n",
       "</div>"
      ],
      "text/plain": [
       "                            Firm                        Website  \\\n",
       "0                      Techstars              www.techstars.com   \n",
       "1                   Y Combinator            www.ycombinator.com   \n",
       "2      Plug and Play Tech Center  www.plugandplaytechcenter.com   \n",
       "3          Microsoft Accelerator   www.microsoftaccelerator.com   \n",
       "4                          Accel                  www.accel.com   \n",
       "5            Andreessen Horowitz                   www.a16z.com   \n",
       "6      New Enterprise Associates                    www.nea.com   \n",
       "7                       SV Angel                www.svangel.com   \n",
       "8                             GV                     www.gv.com   \n",
       "9  Right Side Capital Management       www.rightsidecapital.com   \n",
       "\n",
       "                                         Description             Contact  \\\n",
       "0  Techstars is a mentorship-driven seed stage in...         David Cohen   \n",
       "1  Y Combinator is an accelerator that provides s...    Trevor Blackwell   \n",
       "2  Plug and Play is a global accelerator that spe...        Marc Steiner   \n",
       "3  Microsoft Accelerator is an accelerator that p...        Amir Pinchas   \n",
       "4  Accel is a Palo Alto, California based venture...       Anne Rockhold   \n",
       "5  Andreessen Horowitz is a venture capital firm ...  Marc L. Andreessen   \n",
       "6  New Enterprise Associates is a venture capital...        Tim Schaller   \n",
       "7  SV Angel is a San Francisco, California based ...       Brian Pokorny   \n",
       "8  GV is the corporate venture capital arm of Alp...          Jodi Olson   \n",
       "9  Right Side Capital Management is a San Francis...     Dave S. Lambert   \n",
       "\n",
       "        Phone Number                                              Title  \\\n",
       "0  +1 (408) 524-1400  Co-Founder, Co-Chief Executive Officer & Board...   \n",
       "1                NaN                               Co-Founder & Partner   \n",
       "2  +1 (650) 614-4800                                    General Counsel   \n",
       "3                NaN  Principal, Head of Operations and Portfolio & ...   \n",
       "4  +1 (301) 272-2300                            Chief Financial Officer   \n",
       "5  +1 (415) 512-7553                       Co-Founder & General Partner   \n",
       "6                NaN                            Chief Financial Officer   \n",
       "7  +1 (415) 655-4965                                    General Partner   \n",
       "8  +1 (650) 853-7000                             Communications Partner   \n",
       "9  +1 (650) 854-3927                        Founder & Managing Director   \n",
       "\n",
       "                                Email  Total Investments  Active Investments  \\\n",
       "0           david.cohen@techstars.com              502.0               132.0   \n",
       "1              trevor@ycombinator.com              535.0               250.0   \n",
       "2      marc@plugandplaytechcenter.com              411.0                73.0   \n",
       "3  amir.pinchas@microsoftventures.com              391.0                58.0   \n",
       "4                 arockhold@accel.com              200.0               186.0   \n",
       "5                         ma@a16z.com              157.0                78.0   \n",
       "6                   tschaller@nea.com              173.0               193.0   \n",
       "7                   brian@svangel.com              232.0               196.0   \n",
       "8                         jodi@gv.com              135.0                86.0   \n",
       "9           dave@rightsidecapital.com              198.0                25.0   \n",
       "\n",
       "  Dry Powder  ...                                  Preferred Sectors  \\\n",
       "0     120.07  ...  Beverages, Computer Hardware, Education and Tr...   \n",
       "1       0.96  ...                                           Software   \n",
       "2          0  ...                                           Software   \n",
       "3        NaN  ...                                           Software   \n",
       "4   4,806.77  ...  Commercial Products, Commercial Services, Comm...   \n",
       "5   1,220.38  ...            Healthcare Technology Systems, Software   \n",
       "6   2,004.63  ...  Commercial Services, Communications and Networ...   \n",
       "7      88.07  ...                                           Software   \n",
       "8     148.49  ...                                           Software   \n",
       "9          0  ...                 Services (Non-Financial), Software   \n",
       "\n",
       "                           Preferred Investment Size  \\\n",
       "0  Accelerator/Incubator, Convertible Debt, Early...   \n",
       "1  Accelerator/Incubator, Early Stage VC, Later S...   \n",
       "2                                                NaN   \n",
       "3  Accelerator/Incubator, Early Stage VC, Later S...   \n",
       "4                                                NaN   \n",
       "5         Early Stage VC, Later Stage VC, Seed Round   \n",
       "6  Early Stage VC, Later Stage VC, PE Growth/Expa...   \n",
       "7  Early Stage VC, Later Stage VC, Merger/Acquisi...   \n",
       "8                                                NaN   \n",
       "9         Early Stage VC, Later Stage VC, Seed Round   \n",
       "\n",
       "  Preferred Transaction Sizes Preferences Date of Last Fund Closed        AUM  \\\n",
       "0                 0.10 - 0.20         NaN               11/17/2016        300   \n",
       "1                        0.12         NaN               10/16/2015      772.8   \n",
       "2                 0.03 - 0.50         NaN                      NaN        NaN   \n",
       "3                 0.05 - 0.30         NaN                      NaN        NaN   \n",
       "4                1.00 - 30.00         NaN               11/30/2016  10,806.40   \n",
       "5               0.01 - 100.00         NaN                6/10/2016   6,314.80   \n",
       "6                0.05 - 20.00         NaN                4/15/2015  10,850.00   \n",
       "7                         NaN         NaN               11/22/2016      232.8   \n",
       "8                0.25 - 50.00         NaN               10/22/2015   2,400.00   \n",
       "9                 0.03 - 0.20         NaN               12/31/2012        NaN   \n",
       "\n",
       "                        Type                 HQ CSDP Target LinkedIn URL  \n",
       "0      Accelerator/Incubator        Boulder, CO    Target 2          NaN  \n",
       "1      Accelerator/Incubator  Mountain View, CA    Target 2          NaN  \n",
       "2      Accelerator/Incubator      Sunnyvale, CA    Target 2          NaN  \n",
       "3      Accelerator/Incubator        Seattle, WA         NaN          NaN  \n",
       "4            Venture Capital      Palo Alto, CA    Target 2          NaN  \n",
       "5            Venture Capital     Menlo Park, CA    Target 2          NaN  \n",
       "6            Venture Capital    Chevy Chase, MD    Target 2          NaN  \n",
       "7            Venture Capital  San Francisco, CA    Target 2          NaN  \n",
       "8  Corporate Venture Capital  Mountain View, CA    Target 2          NaN  \n",
       "9            Venture Capital  San Francisco, CA    Target 2          NaN  \n",
       "\n",
       "[10 rows x 22 columns]"
      ]
     },
     "execution_count": 4,
     "metadata": {},
     "output_type": "execute_result"
    }
   ],
   "source": [
    "investors.head(10)"
   ]
  },
  {
   "cell_type": "code",
   "execution_count": 33,
   "metadata": {},
   "outputs": [
    {
     "name": "stdout",
     "output_type": "stream",
     "text": [
      "<class 'pandas.core.frame.DataFrame'>\n",
      "Int64Index: 7880 entries, 0 to 8101\n",
      "Data columns (total 22 columns):\n",
      " #   Column                       Non-Null Count  Dtype  \n",
      "---  ------                       --------------  -----  \n",
      " 0   Firm                         7880 non-null   object \n",
      " 1   Website                      3014 non-null   object \n",
      " 2   Description                  7738 non-null   object \n",
      " 3   Contact                      6858 non-null   object \n",
      " 4   Phone Number                 4786 non-null   object \n",
      " 5   Title                        6858 non-null   object \n",
      " 6   Email                        5000 non-null   object \n",
      " 7   Total Investments            7218 non-null   float64\n",
      " 8   Active Investments           3591 non-null   float64\n",
      " 9   Dry Powder                   1092 non-null   object \n",
      " 10  Notes                        5930 non-null   object \n",
      " 11  Notes 2                      3631 non-null   object \n",
      " 12  Preferred Sectors            7880 non-null   object \n",
      " 13  Preferred Investment Size    2972 non-null   object \n",
      " 14  Preferred Transaction Sizes  1201 non-null   object \n",
      " 15  Preferences                  189 non-null    object \n",
      " 16  Date of Last Fund Closed     818 non-null    object \n",
      " 17  AUM                          965 non-null    object \n",
      " 18  Type                         7880 non-null   object \n",
      " 19  HQ                           7853 non-null   object \n",
      " 20  CSDP Target                  5761 non-null   object \n",
      " 21  LinkedIn URL                 0 non-null      float64\n",
      "dtypes: float64(3), object(19)\n",
      "memory usage: 1.4+ MB\n"
     ]
    }
   ],
   "source": [
    "investors.info()"
   ]
  },
  {
   "cell_type": "code",
   "execution_count": 37,
   "metadata": {},
   "outputs": [
    {
     "data": {
      "text/html": [
       "<div>\n",
       "<style scoped>\n",
       "    .dataframe tbody tr th:only-of-type {\n",
       "        vertical-align: middle;\n",
       "    }\n",
       "\n",
       "    .dataframe tbody tr th {\n",
       "        vertical-align: top;\n",
       "    }\n",
       "\n",
       "    .dataframe thead th {\n",
       "        text-align: right;\n",
       "    }\n",
       "</style>\n",
       "<table border=\"1\" class=\"dataframe\">\n",
       "  <thead>\n",
       "    <tr style=\"text-align: right;\">\n",
       "      <th></th>\n",
       "      <th>Total Investments</th>\n",
       "      <th>Active Investments</th>\n",
       "      <th>LinkedIn URL</th>\n",
       "    </tr>\n",
       "  </thead>\n",
       "  <tbody>\n",
       "    <tr>\n",
       "      <th>count</th>\n",
       "      <td>7218.000000</td>\n",
       "      <td>3591.000000</td>\n",
       "      <td>0.0</td>\n",
       "    </tr>\n",
       "    <tr>\n",
       "      <th>mean</th>\n",
       "      <td>6.410917</td>\n",
       "      <td>6.665553</td>\n",
       "      <td>NaN</td>\n",
       "    </tr>\n",
       "    <tr>\n",
       "      <th>std</th>\n",
       "      <td>16.553185</td>\n",
       "      <td>15.244629</td>\n",
       "      <td>NaN</td>\n",
       "    </tr>\n",
       "    <tr>\n",
       "      <th>min</th>\n",
       "      <td>1.000000</td>\n",
       "      <td>1.000000</td>\n",
       "      <td>NaN</td>\n",
       "    </tr>\n",
       "    <tr>\n",
       "      <th>25%</th>\n",
       "      <td>1.000000</td>\n",
       "      <td>1.000000</td>\n",
       "      <td>NaN</td>\n",
       "    </tr>\n",
       "    <tr>\n",
       "      <th>50%</th>\n",
       "      <td>2.000000</td>\n",
       "      <td>2.000000</td>\n",
       "      <td>NaN</td>\n",
       "    </tr>\n",
       "    <tr>\n",
       "      <th>75%</th>\n",
       "      <td>6.000000</td>\n",
       "      <td>6.000000</td>\n",
       "      <td>NaN</td>\n",
       "    </tr>\n",
       "    <tr>\n",
       "      <th>max</th>\n",
       "      <td>535.000000</td>\n",
       "      <td>269.000000</td>\n",
       "      <td>NaN</td>\n",
       "    </tr>\n",
       "  </tbody>\n",
       "</table>\n",
       "</div>"
      ],
      "text/plain": [
       "       Total Investments  Active Investments  LinkedIn URL\n",
       "count        7218.000000         3591.000000           0.0\n",
       "mean            6.410917            6.665553           NaN\n",
       "std            16.553185           15.244629           NaN\n",
       "min             1.000000            1.000000           NaN\n",
       "25%             1.000000            1.000000           NaN\n",
       "50%             2.000000            2.000000           NaN\n",
       "75%             6.000000            6.000000           NaN\n",
       "max           535.000000          269.000000           NaN"
      ]
     },
     "execution_count": 37,
     "metadata": {},
     "output_type": "execute_result"
    }
   ],
   "source": [
    "investors.describe()"
   ]
  },
  {
   "cell_type": "markdown",
   "metadata": {},
   "source": [
    "# filtering investors on preferred sectors with Software,IT,Information Technology,Internet Service Providers"
   ]
  },
  {
   "cell_type": "code",
   "execution_count": 22,
   "metadata": {},
   "outputs": [],
   "source": [
    "software_filt=investors[\"Preferred Sectors\"].str.contains(\"Software\")"
   ]
  },
  {
   "cell_type": "code",
   "execution_count": 23,
   "metadata": {},
   "outputs": [],
   "source": [
    "IT_filt=investors[\"Preferred Sectors\"].str.contains( \"IT\")"
   ]
  },
  {
   "cell_type": "code",
   "execution_count": 24,
   "metadata": {},
   "outputs": [],
   "source": [
    "Information_filt=investors[\"Preferred Sectors\"].str.contains(\"Information Technology\")"
   ]
  },
  {
   "cell_type": "code",
   "execution_count": 30,
   "metadata": {},
   "outputs": [],
   "source": [
    "Internet_filt = investors[\"Preferred Sectors\"].str.contains(\"Internet Service Providers\")"
   ]
  },
  {
   "cell_type": "code",
   "execution_count": 32,
   "metadata": {},
   "outputs": [],
   "source": [
    "investors=investors[software_filt | IT_filt | Information_filt|Internet_filt]"
   ]
  },
  {
   "cell_type": "markdown",
   "metadata": {},
   "source": [
    "# Filtering investors seeking new investments or who consider new projects"
   ]
  },
  {
   "cell_type": "code",
   "execution_count": 38,
   "metadata": {},
   "outputs": [
    {
     "data": {
      "text/plain": [
       "Actively Seeking New Investments                     5763\n",
       "Out of Business                                       102\n",
       "Not Making New Investments                             38\n",
       "Fully Invested, No Longer Seeking New Investments       9\n",
       "Acquired/Merged (Operating Subsidiary)                  7\n",
       "Acquired/Merged                                         6\n",
       "Will Consider New Projects                              3\n",
       "Reducing Investment Activity                            2\n",
       "Name: Notes, dtype: int64"
      ]
     },
     "execution_count": 38,
     "metadata": {},
     "output_type": "execute_result"
    }
   ],
   "source": [
    "investors[\"Notes\"].value_counts()"
   ]
  },
  {
   "cell_type": "code",
   "execution_count": 45,
   "metadata": {},
   "outputs": [],
   "source": [
    "investor_filt_1=investors[\"Notes\"].str.contains(\"Actively Seeking New Investments\") "
   ]
  },
  {
   "cell_type": "code",
   "execution_count": 46,
   "metadata": {},
   "outputs": [],
   "source": [
    "investor_filt_2=investors[\"Notes\"].str.contains(\"Will Consider New Projects\") "
   ]
  },
  {
   "cell_type": "code",
   "execution_count": 48,
   "metadata": {},
   "outputs": [],
   "source": [
    "investors=investors[investor_filt_1 | investor_filt_2]    "
   ]
  },
  {
   "cell_type": "markdown",
   "metadata": {},
   "source": [
    "# Filtering out investors who are missing both the Preferred Investment Size and Preferred Transaction Sizes"
   ]
  },
  {
   "cell_type": "code",
   "execution_count": 57,
   "metadata": {},
   "outputs": [],
   "source": [
    "mask=(pd.isna(investors[\"Preferred Investment Size\"])) & (pd.isna(investors[\"Preferred Transaction Sizes\"]))"
   ]
  },
  {
   "cell_type": "code",
   "execution_count": 60,
   "metadata": {},
   "outputs": [],
   "source": [
    "investors=investors[~mask]"
   ]
  },
  {
   "cell_type": "code",
   "execution_count": 62,
   "metadata": {},
   "outputs": [
    {
     "data": {
      "text/plain": [
       "1999"
      ]
     },
     "execution_count": 62,
     "metadata": {},
     "output_type": "execute_result"
    }
   ],
   "source": [
    "sum(pd.isna(investors[\"Preferred Transaction Sizes\"]))"
   ]
  },
  {
   "cell_type": "code",
   "execution_count": 63,
   "metadata": {},
   "outputs": [
    {
     "data": {
      "text/plain": [
       "289"
      ]
     },
     "execution_count": 63,
     "metadata": {},
     "output_type": "execute_result"
    }
   ],
   "source": [
    "sum(pd.isna(investors[\"Preferred Investment Size\"]))"
   ]
  },
  {
   "cell_type": "markdown",
   "metadata": {},
   "source": [
    "# Typical seed round fundings for startups is from 3 million USD to 6 million USD,taking the estimated seed funding to be approx 3 million USD, therefore the missing Preferred Transaction Sizes with 3(units in million USD)"
   ]
  },
  {
   "cell_type": "code",
   "execution_count": 66,
   "metadata": {},
   "outputs": [],
   "source": [
    "investors[\"Preferred Transaction Sizes\"].fillna('3',inplace=True)"
   ]
  },
  {
   "cell_type": "code",
   "execution_count": 70,
   "metadata": {},
   "outputs": [
    {
     "data": {
      "text/plain": [
       "0"
      ]
     },
     "execution_count": 70,
     "metadata": {},
     "output_type": "execute_result"
    }
   ],
   "source": [
    "sum(pd.isna(investors[\"Preferred Transaction Sizes\"]))"
   ]
  },
  {
   "cell_type": "code",
   "execution_count": 177,
   "metadata": {},
   "outputs": [],
   "source": [
    "investments=investors[\"Preferred Transaction Sizes\"].str.split(pat='-',expand=True)"
   ]
  },
  {
   "cell_type": "code",
   "execution_count": 178,
   "metadata": {},
   "outputs": [],
   "source": [
    "investments.rename(columns={0: \"investment_1(millions USD)\", 1: \"investment_2(millions USD)\"},inplace=True)"
   ]
  },
  {
   "cell_type": "markdown",
   "metadata": {},
   "source": [
    " # Removing white spaces if any"
   ]
  },
  {
   "cell_type": "code",
   "execution_count": 179,
   "metadata": {},
   "outputs": [],
   "source": [
    "investments[\"investment_1(millions USD)\"]=investments[\"investment_1(millions USD)\"].str.strip()"
   ]
  },
  {
   "cell_type": "code",
   "execution_count": 180,
   "metadata": {},
   "outputs": [],
   "source": [
    "investments[\"investment_2(millions USD)\"]=investments[\"investment_2(millions USD)\"].str.strip()"
   ]
  },
  {
   "cell_type": "markdown",
   "metadata": {},
   "source": [
    "# Replacing None with NaN's and finally replacing it with zero since we are interested in the average of the investment range "
   ]
  },
  {
   "cell_type": "code",
   "execution_count": 181,
   "metadata": {},
   "outputs": [],
   "source": [
    "investments[\"investment_2(millions USD)\"].replace(to_replace=[None], value=np.nan,inplace=True)"
   ]
  },
  {
   "cell_type": "code",
   "execution_count": 182,
   "metadata": {},
   "outputs": [],
   "source": [
    "investments.fillna(\"0\",inplace=True)"
   ]
  },
  {
   "cell_type": "code",
   "execution_count": 183,
   "metadata": {},
   "outputs": [
    {
     "name": "stdout",
     "output_type": "stream",
     "text": [
      "<class 'pandas.core.frame.DataFrame'>\n",
      "Int64Index: 3140 entries, 0 to 8100\n",
      "Data columns (total 2 columns):\n",
      " #   Column                      Non-Null Count  Dtype \n",
      "---  ------                      --------------  ----- \n",
      " 0   investment_1(millions USD)  3140 non-null   object\n",
      " 1   investment_2(millions USD)  3140 non-null   object\n",
      "dtypes: object(2)\n",
      "memory usage: 73.6+ KB\n"
     ]
    }
   ],
   "source": [
    "investments.info()"
   ]
  },
  {
   "cell_type": "code",
   "execution_count": 194,
   "metadata": {},
   "outputs": [
    {
     "data": {
      "text/plain": [
       "0        0.1\n",
       "1       0.12\n",
       "2       0.03\n",
       "3       0.05\n",
       "4        1.0\n",
       "        ... \n",
       "8090     3.0\n",
       "8095     3.0\n",
       "8097     3.0\n",
       "8098     0.5\n",
       "8100     3.0\n",
       "Name: investment_1(millions USD), Length: 3140, dtype: object"
      ]
     },
     "execution_count": 194,
     "metadata": {},
     "output_type": "execute_result"
    }
   ],
   "source": [
    "investments[\"investment_1(millions USD)\"].astype(str).str.replace(',', '')"
   ]
  },
  {
   "cell_type": "code",
   "execution_count": 188,
   "metadata": {},
   "outputs": [
    {
     "data": {
      "text/html": [
       "<div>\n",
       "<style scoped>\n",
       "    .dataframe tbody tr th:only-of-type {\n",
       "        vertical-align: middle;\n",
       "    }\n",
       "\n",
       "    .dataframe tbody tr th {\n",
       "        vertical-align: top;\n",
       "    }\n",
       "\n",
       "    .dataframe thead th {\n",
       "        text-align: right;\n",
       "    }\n",
       "</style>\n",
       "<table border=\"1\" class=\"dataframe\">\n",
       "  <thead>\n",
       "    <tr style=\"text-align: right;\">\n",
       "      <th></th>\n",
       "      <th>investment_1(millions USD)</th>\n",
       "      <th>investment_2(millions USD)</th>\n",
       "    </tr>\n",
       "  </thead>\n",
       "  <tbody>\n",
       "    <tr>\n",
       "      <th>0</th>\n",
       "      <td>0.10</td>\n",
       "      <td>0.20</td>\n",
       "    </tr>\n",
       "    <tr>\n",
       "      <th>1</th>\n",
       "      <td>0.12</td>\n",
       "      <td>0</td>\n",
       "    </tr>\n",
       "    <tr>\n",
       "      <th>2</th>\n",
       "      <td>0.03</td>\n",
       "      <td>0.50</td>\n",
       "    </tr>\n",
       "    <tr>\n",
       "      <th>3</th>\n",
       "      <td>0.05</td>\n",
       "      <td>0.30</td>\n",
       "    </tr>\n",
       "    <tr>\n",
       "      <th>4</th>\n",
       "      <td>1.00</td>\n",
       "      <td>30.00</td>\n",
       "    </tr>\n",
       "    <tr>\n",
       "      <th>...</th>\n",
       "      <td>...</td>\n",
       "      <td>...</td>\n",
       "    </tr>\n",
       "    <tr>\n",
       "      <th>107</th>\n",
       "      <td>0.03</td>\n",
       "      <td>0</td>\n",
       "    </tr>\n",
       "    <tr>\n",
       "      <th>108</th>\n",
       "      <td>3.00</td>\n",
       "      <td>30.00</td>\n",
       "    </tr>\n",
       "    <tr>\n",
       "      <th>109</th>\n",
       "      <td>0.20</td>\n",
       "      <td>0.60</td>\n",
       "    </tr>\n",
       "    <tr>\n",
       "      <th>110</th>\n",
       "      <td>0.10</td>\n",
       "      <td>3.50</td>\n",
       "    </tr>\n",
       "    <tr>\n",
       "      <th>111</th>\n",
       "      <td>3</td>\n",
       "      <td>0</td>\n",
       "    </tr>\n",
       "  </tbody>\n",
       "</table>\n",
       "<p>100 rows × 2 columns</p>\n",
       "</div>"
      ],
      "text/plain": [
       "    investment_1(millions USD) investment_2(millions USD)\n",
       "0                         0.10                       0.20\n",
       "1                         0.12                          0\n",
       "2                         0.03                       0.50\n",
       "3                         0.05                       0.30\n",
       "4                         1.00                      30.00\n",
       "..                         ...                        ...\n",
       "107                       0.03                          0\n",
       "108                       3.00                      30.00\n",
       "109                       0.20                       0.60\n",
       "110                       0.10                       3.50\n",
       "111                          3                          0\n",
       "\n",
       "[100 rows x 2 columns]"
      ]
     },
     "execution_count": 188,
     "metadata": {},
     "output_type": "execute_result"
    }
   ],
   "source": [
    "investments.head(100)"
   ]
  },
  {
   "cell_type": "code",
   "execution_count": 195,
   "metadata": {},
   "outputs": [],
   "source": [
    "for col in investments.columns:\n",
    "    investments[col]=investments[col].astype(str).str.replace(',', '').astype(\"float64\")\n"
   ]
  },
  {
   "cell_type": "code",
   "execution_count": 197,
   "metadata": {},
   "outputs": [
    {
     "name": "stdout",
     "output_type": "stream",
     "text": [
      "<class 'pandas.core.frame.DataFrame'>\n",
      "Int64Index: 3140 entries, 0 to 8100\n",
      "Data columns (total 2 columns):\n",
      " #   Column                      Non-Null Count  Dtype  \n",
      "---  ------                      --------------  -----  \n",
      " 0   investment_1(millions USD)  3140 non-null   float64\n",
      " 1   investment_2(millions USD)  3140 non-null   float64\n",
      "dtypes: float64(2)\n",
      "memory usage: 73.6 KB\n"
     ]
    }
   ],
   "source": [
    "investments.info()"
   ]
  },
  {
   "cell_type": "code",
   "execution_count": 199,
   "metadata": {},
   "outputs": [],
   "source": [
    "investments[\"average_investments(USD millions)\"]=investments.mean(axis=1)"
   ]
  },
  {
   "cell_type": "code",
   "execution_count": 200,
   "metadata": {},
   "outputs": [
    {
     "data": {
      "text/html": [
       "<div>\n",
       "<style scoped>\n",
       "    .dataframe tbody tr th:only-of-type {\n",
       "        vertical-align: middle;\n",
       "    }\n",
       "\n",
       "    .dataframe tbody tr th {\n",
       "        vertical-align: top;\n",
       "    }\n",
       "\n",
       "    .dataframe thead th {\n",
       "        text-align: right;\n",
       "    }\n",
       "</style>\n",
       "<table border=\"1\" class=\"dataframe\">\n",
       "  <thead>\n",
       "    <tr style=\"text-align: right;\">\n",
       "      <th></th>\n",
       "      <th>investment_1(millions USD)</th>\n",
       "      <th>investment_2(millions USD)</th>\n",
       "      <th>average_investments(USD millions)</th>\n",
       "    </tr>\n",
       "  </thead>\n",
       "  <tbody>\n",
       "    <tr>\n",
       "      <th>0</th>\n",
       "      <td>0.10</td>\n",
       "      <td>0.2</td>\n",
       "      <td>0.150</td>\n",
       "    </tr>\n",
       "    <tr>\n",
       "      <th>1</th>\n",
       "      <td>0.12</td>\n",
       "      <td>0.0</td>\n",
       "      <td>0.060</td>\n",
       "    </tr>\n",
       "    <tr>\n",
       "      <th>2</th>\n",
       "      <td>0.03</td>\n",
       "      <td>0.5</td>\n",
       "      <td>0.265</td>\n",
       "    </tr>\n",
       "    <tr>\n",
       "      <th>3</th>\n",
       "      <td>0.05</td>\n",
       "      <td>0.3</td>\n",
       "      <td>0.175</td>\n",
       "    </tr>\n",
       "    <tr>\n",
       "      <th>4</th>\n",
       "      <td>1.00</td>\n",
       "      <td>30.0</td>\n",
       "      <td>15.500</td>\n",
       "    </tr>\n",
       "    <tr>\n",
       "      <th>...</th>\n",
       "      <td>...</td>\n",
       "      <td>...</td>\n",
       "      <td>...</td>\n",
       "    </tr>\n",
       "    <tr>\n",
       "      <th>8090</th>\n",
       "      <td>3.00</td>\n",
       "      <td>0.0</td>\n",
       "      <td>1.500</td>\n",
       "    </tr>\n",
       "    <tr>\n",
       "      <th>8095</th>\n",
       "      <td>3.00</td>\n",
       "      <td>0.0</td>\n",
       "      <td>1.500</td>\n",
       "    </tr>\n",
       "    <tr>\n",
       "      <th>8097</th>\n",
       "      <td>3.00</td>\n",
       "      <td>0.0</td>\n",
       "      <td>1.500</td>\n",
       "    </tr>\n",
       "    <tr>\n",
       "      <th>8098</th>\n",
       "      <td>0.50</td>\n",
       "      <td>2.0</td>\n",
       "      <td>1.250</td>\n",
       "    </tr>\n",
       "    <tr>\n",
       "      <th>8100</th>\n",
       "      <td>3.00</td>\n",
       "      <td>0.0</td>\n",
       "      <td>1.500</td>\n",
       "    </tr>\n",
       "  </tbody>\n",
       "</table>\n",
       "<p>3140 rows × 3 columns</p>\n",
       "</div>"
      ],
      "text/plain": [
       "      investment_1(millions USD)  investment_2(millions USD)  \\\n",
       "0                           0.10                         0.2   \n",
       "1                           0.12                         0.0   \n",
       "2                           0.03                         0.5   \n",
       "3                           0.05                         0.3   \n",
       "4                           1.00                        30.0   \n",
       "...                          ...                         ...   \n",
       "8090                        3.00                         0.0   \n",
       "8095                        3.00                         0.0   \n",
       "8097                        3.00                         0.0   \n",
       "8098                        0.50                         2.0   \n",
       "8100                        3.00                         0.0   \n",
       "\n",
       "      average_investments(USD millions)  \n",
       "0                                 0.150  \n",
       "1                                 0.060  \n",
       "2                                 0.265  \n",
       "3                                 0.175  \n",
       "4                                15.500  \n",
       "...                                 ...  \n",
       "8090                              1.500  \n",
       "8095                              1.500  \n",
       "8097                              1.500  \n",
       "8098                              1.250  \n",
       "8100                              1.500  \n",
       "\n",
       "[3140 rows x 3 columns]"
      ]
     },
     "execution_count": 200,
     "metadata": {},
     "output_type": "execute_result"
    }
   ],
   "source": [
    "investments"
   ]
  },
  {
   "cell_type": "code",
   "execution_count": 202,
   "metadata": {},
   "outputs": [],
   "source": [
    "investors=pd.concat([investors,investments[\"average_investments(USD millions)\"]],axis=1)"
   ]
  },
  {
   "cell_type": "code",
   "execution_count": 203,
   "metadata": {},
   "outputs": [],
   "source": [
    "investors.drop([\"Preferred Transaction Sizes\"],axis=1,inplace=True)"
   ]
  },
  {
   "cell_type": "code",
   "execution_count": 223,
   "metadata": {},
   "outputs": [
    {
     "name": "stdout",
     "output_type": "stream",
     "text": [
      "<class 'pandas.core.frame.DataFrame'>\n",
      "Int64Index: 3140 entries, 0 to 8100\n",
      "Data columns (total 22 columns):\n",
      " #   Column                             Non-Null Count  Dtype  \n",
      "---  ------                             --------------  -----  \n",
      " 0   Firm                               3140 non-null   object \n",
      " 1   Website                            2161 non-null   object \n",
      " 2   Description                        3139 non-null   object \n",
      " 3   Contact                            2828 non-null   object \n",
      " 4   Phone Number                       1942 non-null   object \n",
      " 5   Title                              2828 non-null   object \n",
      " 6   Email                              2217 non-null   object \n",
      " 7   Total Investments                  3061 non-null   float64\n",
      " 8   Active Investments                 2122 non-null   float64\n",
      " 9   Dry Powder                         971 non-null    object \n",
      " 10  Notes                              3140 non-null   object \n",
      " 11  Notes 2                            2972 non-null   object \n",
      " 12  Preferred Sectors                  3140 non-null   object \n",
      " 13  Preferred Investment Size          2851 non-null   object \n",
      " 14  Preferences                        176 non-null    object \n",
      " 15  Date of Last Fund Closed           728 non-null    object \n",
      " 16  AUM                                883 non-null    object \n",
      " 17  Type                               3140 non-null   object \n",
      " 18  HQ                                 3137 non-null   object \n",
      " 19  CSDP Target                        3135 non-null   object \n",
      " 20  LinkedIn URL                       0 non-null      float64\n",
      " 21  average_investments(USD millions)  3140 non-null   float64\n",
      "dtypes: float64(4), object(18)\n",
      "memory usage: 564.2+ KB\n"
     ]
    }
   ],
   "source": [
    "investors.info()"
   ]
  },
  {
   "cell_type": "markdown",
   "metadata": {},
   "source": [
    "# Filtering investors with average investments valued at least 250K USD and with at least 6 investments"
   ]
  },
  {
   "cell_type": "code",
   "execution_count": 226,
   "metadata": {},
   "outputs": [],
   "source": [
    "investors=investors[(investors[\"average_investments(USD millions)\"]>0.25) & (investors[\"Total Investments\"]>6)]"
   ]
  },
  {
   "cell_type": "markdown",
   "metadata": {},
   "source": [
    "# AUM = \"Assets Under Management\" is the size of the portfolio the investor manages \n"
   ]
  },
  {
   "cell_type": "markdown",
   "metadata": {},
   "source": [
    "# \"Dry Power\" is the money in the fund left to invest. Units: Billions USD."
   ]
  },
  {
   "cell_type": "markdown",
   "metadata": {},
   "source": [
    "# Sorting the investors with the maximum money to invest aka Dry Powder and maximum assets under their portfolio."
   ]
  },
  {
   "cell_type": "code",
   "execution_count": 229,
   "metadata": {},
   "outputs": [],
   "source": [
    "investors=investors.sort_values([\"Dry Powder\", \"AUM\"], ascending = (False, False))"
   ]
  },
  {
   "cell_type": "code",
   "execution_count": 233,
   "metadata": {},
   "outputs": [],
   "source": [
    "investors=investors.reset_index(drop=True)"
   ]
  },
  {
   "cell_type": "code",
   "execution_count": 235,
   "metadata": {},
   "outputs": [],
   "source": [
    "top_500_investors=investors.loc[:500,:]"
   ]
  },
  {
   "cell_type": "code",
   "execution_count": 236,
   "metadata": {},
   "outputs": [],
   "source": [
    "top_500_investors.to_csv(\"top_500_investors.csv\")"
   ]
  },
  {
   "cell_type": "code",
   "execution_count": null,
   "metadata": {},
   "outputs": [],
   "source": []
  }
 ],
 "metadata": {
  "kernelspec": {
   "display_name": "Python 3",
   "language": "python",
   "name": "python3"
  },
  "language_info": {
   "codemirror_mode": {
    "name": "ipython",
    "version": 3
   },
   "file_extension": ".py",
   "mimetype": "text/x-python",
   "name": "python",
   "nbconvert_exporter": "python",
   "pygments_lexer": "ipython3",
   "version": "3.7.3"
  }
 },
 "nbformat": 4,
 "nbformat_minor": 4
}
